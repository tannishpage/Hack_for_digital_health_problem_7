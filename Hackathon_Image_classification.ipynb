{
  "nbformat": 4,
  "nbformat_minor": 0,
  "metadata": {
    "colab": {
      "name": "Hackathon Image_classification.ipynb",
      "provenance": [],
      "collapsed_sections": []
    },
    "kernelspec": {
      "name": "python3",
      "display_name": "Python 3"
    },
    "accelerator": "GPU"
  },
  "cells": [
    {
      "cell_type": "code",
      "metadata": {
        "colab": {
          "base_uri": "https://localhost:8080/"
        },
        "id": "0JhFIZtiN908",
        "outputId": "7baf6c19-d0c2-4051-80c2-275c8e224423"
      },
      "source": [
        "from zipfile import ZipFile\n",
        "import os\n",
        "os.chdir(\"/content/sample_data\")\n",
        "print(os.getcwd())\n",
        "with ZipFile(\"image_data.zip\", 'r') as zip:\n",
        "    zip.extractall()\n"
      ],
      "execution_count": null,
      "outputs": [
        {
          "output_type": "stream",
          "text": [
            "/content/sample_data\n"
          ],
          "name": "stdout"
        }
      ]
    },
    {
      "cell_type": "code",
      "metadata": {
        "id": "Rl2KVXiIQJME"
      },
      "source": [
        "import torch\n",
        "from torchvision import transforms \n",
        "import numpy as np\n",
        "import glob\n",
        "import torch.nn as nn\n",
        "from torch.utils.data import DataLoader, random_split, WeightedRandomSampler\n",
        "import torch.optim as optim\n",
        "from torch.autograd import Variable\n",
        "import torchvision\n",
        "import pathlib\n",
        "import matplotlib.pyplot as plt\n",
        "import torch.nn.functional as F\n",
        "import time"
      ],
      "execution_count": null,
      "outputs": []
    },
    {
      "cell_type": "code",
      "metadata": {
        "id": "rLFVcGRFQhuZ"
      },
      "source": [
        "## transform images using pytorch packages\n",
        "\n",
        "transformer = transforms.Compose([transforms.Resize((224,224)),\n",
        "                                  transforms.RandomHorizontalFlip(),\n",
        "                                  transforms.ToTensor(),\n",
        "                                  transforms.Normalize([0.5,0.5,0.5],[0.5,0.5,0.5])\n",
        "])"
      ],
      "execution_count": null,
      "outputs": []
    },
    {
      "cell_type": "code",
      "metadata": {
        "id": "5t8XV2rVQm88"
      },
      "source": [
        "train_folder_path = \"/content/sample_data/train_data\"\n",
        "test_folder_path = \"/content/sample_data/test_data\"\n",
        "\n"
      ],
      "execution_count": null,
      "outputs": []
    },
    {
      "cell_type": "code",
      "metadata": {
        "colab": {
          "base_uri": "https://localhost:8080/"
        },
        "id": "Z9051NW3QqTe",
        "outputId": "be25a615-c2c3-42e3-aa5f-2b0da157c60a"
      },
      "source": [
        "train_folder = torchvision.datasets.ImageFolder(train_folder_path,transform=transformer)\n",
        "print(len(train_folder))\n",
        "img_1,label = train_folder[800]           # Load images through imagefolder function and check dimensions\n",
        "print(img_1.shape,label)\n",
        "\n",
        "\n",
        "\n",
        "test_folder = torchvision.datasets.ImageFolder(test_folder_path,transform=transformer)\n",
        "img_2,label = test_folder[2]           # Load images through imagefolder function and check dimensions\n",
        "print(img_2.shape,label)   \n",
        "print(train_folder.classes)                                    "
      ],
      "execution_count": null,
      "outputs": [
        {
          "output_type": "stream",
          "text": [
            "900\n",
            "torch.Size([3, 224, 224]) 1\n",
            "torch.Size([3, 224, 224]) 0\n",
            "['Benign', 'Malignant']\n"
          ],
          "name": "stdout"
        }
      ]
    },
    {
      "cell_type": "code",
      "metadata": {
        "colab": {
          "base_uri": "https://localhost:8080/"
        },
        "id": "rGxZ0vd_3I6Y",
        "outputId": "3e354088-e85c-4b60-e868-7574ab824a9a"
      },
      "source": [
        "img_2\n"
      ],
      "execution_count": null,
      "outputs": [
        {
          "output_type": "execute_result",
          "data": {
            "text/plain": [
              "tensor([[[ 0.4510,  0.1843,  0.1922,  ...,  0.0902,  0.0902,  0.4118],\n",
              "         [-0.1529, -0.7020, -0.6392,  ..., -0.9137, -0.9373, -0.2627],\n",
              "         [-0.0980, -0.6549, -0.6235,  ..., -0.9294, -0.9373, -0.2471],\n",
              "         ...,\n",
              "         [ 0.1529, -0.2706, -0.2314,  ..., -0.5765, -0.6235, -0.0588],\n",
              "         [ 0.1216, -0.3020, -0.2549,  ..., -0.6000, -0.6392, -0.0980],\n",
              "         [ 0.5922,  0.3882,  0.4118,  ...,  0.2549,  0.1922,  0.4510]],\n",
              "\n",
              "        [[ 0.4824,  0.2078,  0.2157,  ...,  0.0902,  0.0980,  0.4196],\n",
              "         [-0.1294, -0.6863, -0.6235,  ..., -0.9137, -0.9294, -0.2549],\n",
              "         [-0.0745, -0.6392, -0.6078,  ..., -0.9294, -0.9373, -0.2471],\n",
              "         ...,\n",
              "         [ 0.1529, -0.2706, -0.2392,  ..., -0.5765, -0.6235, -0.0588],\n",
              "         [ 0.1216, -0.3098, -0.2627,  ..., -0.6000, -0.6392, -0.0980],\n",
              "         [ 0.5922,  0.3882,  0.4118,  ...,  0.2549,  0.1922,  0.4510]],\n",
              "\n",
              "        [[ 0.4902,  0.2392,  0.2706,  ...,  0.0824,  0.0667,  0.3804],\n",
              "         [-0.1059, -0.6235, -0.5294,  ..., -0.9294, -0.9529, -0.2863],\n",
              "         [-0.0431, -0.5529, -0.4980,  ..., -0.9294, -0.9529, -0.2627],\n",
              "         ...,\n",
              "         [ 0.2314, -0.1686, -0.1216,  ..., -0.4824, -0.5373,  0.0118],\n",
              "         [ 0.2157, -0.2000, -0.1529,  ..., -0.5059, -0.5529, -0.0196],\n",
              "         [ 0.6314,  0.4353,  0.4588,  ...,  0.3098,  0.2392,  0.4902]]])"
            ]
          },
          "metadata": {
            "tags": []
          },
          "execution_count": 6
        }
      ]
    },
    {
      "cell_type": "code",
      "metadata": {
        "id": "lpkPbJgWqbyQ",
        "colab": {
          "base_uri": "https://localhost:8080/"
        },
        "outputId": "7cac577d-afb3-4497-c187-5d47f9b5c9d1"
      },
      "source": [
        "#checking for device\n",
        "device=torch.device('cuda' if torch.cuda.is_available() else 'cpu')\n",
        "print(device)"
      ],
      "execution_count": null,
      "outputs": [
        {
          "output_type": "stream",
          "text": [
            "cuda\n"
          ],
          "name": "stdout"
        }
      ]
    },
    {
      "cell_type": "code",
      "metadata": {
        "id": "qHG69XfPzwah"
      },
      "source": [
        "def assign_labels(folder):\n",
        "    for img,label in folder:\n",
        "        if label == 1:\n",
        "            label = 0                    # assign class labels Benign = 0 and Malignant = 1 in both test and train data folders\n",
        "        else:\n",
        "            label = 1\n",
        "\n",
        "assign_labels(train_folder)\n",
        "assign_labels(test_folder)"
      ],
      "execution_count": null,
      "outputs": []
    },
    {
      "cell_type": "code",
      "metadata": {
        "colab": {
          "base_uri": "https://localhost:8080/",
          "height": 305
        },
        "id": "6JgmBKqX5OF6",
        "outputId": "f0543b8f-c219-42c5-fd53-5d1331f1d677"
      },
      "source": [
        "plt.imshow(img_2.permute(1,2,0))"
      ],
      "execution_count": null,
      "outputs": [
        {
          "output_type": "stream",
          "text": [
            "Clipping input data to the valid range for imshow with RGB data ([0..1] for floats or [0..255] for integers).\n"
          ],
          "name": "stderr"
        },
        {
          "output_type": "execute_result",
          "data": {
            "text/plain": [
              "<matplotlib.image.AxesImage at 0x7f005adfb7b8>"
            ]
          },
          "metadata": {
            "tags": []
          },
          "execution_count": 9
        },
        {
          "output_type": "display_data",
          "data": {
            "image/png": "[encoded data removed]",
            "text/plain": [
              "<Figure size 432x288 with 1 Axes>"
            ]
          },
          "metadata": {
            "tags": [],
            "needs_background": "light"
          }
        }
      ]
    },
    {
      "cell_type": "code",
      "metadata": {
        "id": "Gt5545BI8Wfk"
      },
      "source": [
        ""
      ],
      "execution_count": null,
      "outputs": []
    },
    {
      "cell_type": "code",
      "metadata": {
        "id": "uIddPyVmxUIm"
      },
      "source": [
        "total = len(os.listdir( os.path.join(train_folder_path, \"Benign\"))) + len(os.listdir( os.path.join(train_folder_path, \"Malignant\")))\n",
        "class_weights = [ total / len(os.listdir( os.path.join(train_folder_path, \"Benign\"))), total / len(os.listdir( os.path.join(train_folder_path, \"Malignant\")))]\n",
        "val_size = int(0.2 * total);\n",
        "train_size = total - val_size;\n",
        "\n",
        "train_data, val_data = random_split(train_folder, [train_size, val_size])\n",
        "\n",
        "image_weights = [ class_weights[ x[1] ] for x in train_data ]\n",
        "sampling = WeightedRandomSampler(image_weights, len(train_data))\n",
        "#train_dataloader = DataLoader(train_folder, batch_size = 100 , sampler=weights#)\n",
        "train_dataloader = DataLoader(train_data, batch_size = 100, sampler=sampling)\n",
        "val_dataloader = DataLoader(val_data, batch_size = 100, shuffle=True)\n",
        "test_dataloader = DataLoader(test_folder, batch_size = 100 , shuffle = True)"
      ],
      "execution_count": null,
      "outputs": []
    },
    {
      "cell_type": "code",
      "metadata": {
        "colab": {
          "base_uri": "https://localhost:8080/"
        },
        "id": "y0q4CXfOLp4Z",
        "outputId": "af165fe5-6bfd-4c7b-b3a2-9b7ad012334f"
      },
      "source": [
        "random = iter(train_dataloader)\n",
        "print(train_dataloader)\n",
        "img , labels = random.next()\n",
        "conv1 = nn.Conv2d(3, 16, kernel_size=3,stride = 1  ,padding=1)\n",
        "print(img.shape)       # original image tensor\n",
        "x = conv1(img)\n",
        "print(x.shape)      # conv1 img tensor\n",
        "pool1 =  nn.MaxPool2d(2, 2)  \n",
        "x  = pool1(x)\n",
        "print(x.shape)                                   \n",
        "conv2 =  nn.Conv2d(16, 32, kernel_size=3, stride=1, padding=1)\n",
        "x  = conv2(x)\n",
        "print(x.shape)\n",
        "x = pool1(x)\n",
        "print(x.shape)\n",
        "conv3  =  nn.Conv2d(32, 64, kernel_size=3, stride=1, padding=1)\n",
        "x = conv3(x)\n",
        "print(x.shape)\n",
        "x = pool1(x)\n",
        "print(x.shape)"
      ],
      "execution_count": null,
      "outputs": [
        {
          "output_type": "stream",
          "text": [
            "<torch.utils.data.dataloader.DataLoader object at 0x7f0062a475c0>\n",
            "torch.Size([100, 3, 224, 224])\n",
            "torch.Size([100, 16, 224, 224])\n",
            "torch.Size([100, 16, 112, 112])\n",
            "torch.Size([100, 32, 112, 112])\n",
            "torch.Size([100, 32, 56, 56])\n",
            "torch.Size([100, 64, 56, 56])\n",
            "torch.Size([100, 64, 28, 28])\n"
          ],
          "name": "stdout"
        }
      ]
    },
    {
      "cell_type": "code",
      "metadata": {
        "id": "s4SXeAQrflwg"
      },
      "source": [
        "## define a sequential model \n",
        "class CNN(nn.Module):\n",
        "    def __init__(self):\n",
        "        super(CNN, self).__init__()\n",
        "        self.conv1 = nn.Conv2d(in_channels= 3,out_channels= 8, kernel_size= 3 , stride= 1 ,padding = 1)\n",
        "        self.pool = nn.MaxPool2d(2, 2)\n",
        "        self.conv2 = nn.Conv2d(in_channels = 8, out_channels = 16, kernel_size = 3 , stride =1 , padding = 1 )\n",
        "        self.conv3 = nn.Conv2d(in_channels = 16, out_channels = 32, kernel_size = 3 , stride =1 , padding = 1 )\n",
        "        self.conv4 = nn.Conv2d(in_channels = 32, out_channels = 64, kernel_size = 3 , stride =1 , padding = 1 )\n",
        "        self.conv5 = nn.Conv2d(in_channels = 64, out_channels = 128, kernel_size = 3 , stride =1 , padding = 1 )\n",
        "        self.conv6 = nn.Conv2d(in_channels = 128, out_channels = 256, kernel_size = 3 , stride =1 , padding = 1 )\n",
        "\n",
        "\n",
        "\n",
        "\n",
        "\n",
        "\n",
        "        self.fc1 = nn.Linear(256*28*28, 500)\n",
        "        self.fc2 = nn.Linear(500, 100)\n",
        "        self.fc3 = nn.Linear(100, 50)\n",
        "        self.fc4 = nn.Linear(50, 2)\n",
        "\n",
        "\n",
        "    def forward(self, x):\n",
        "        x = self.pool(F.relu(self.conv1(x)))\n",
        "        x = F.relu(self.conv2(x))\n",
        "        x = self.pool(F.relu(self.conv3(x)))\n",
        "        x = F.relu(self.conv4(x))\n",
        "        x = F.relu(self.conv5(x))\n",
        "        x = self.pool(F.relu(self.conv6(x)))\n",
        "\n",
        "\n",
        "        x = x.view(-1, 256 * 28 * 28)\n",
        "        x = F.relu(self.fc1(x))\n",
        "        x = F.relu(self.fc2(x))\n",
        "        x = F.relu(self.fc3(x))\n",
        "\n",
        "        x = self.fc4(x)\n",
        "        return x\n",
        "\n",
        "\n",
        "model = CNN().cuda()"
      ],
      "execution_count": null,
      "outputs": []
    },
    {
      "cell_type": "code",
      "metadata": {
        "colab": {
          "base_uri": "https://localhost:8080/"
        },
        "id": "G1sMj1VvvgZj",
        "outputId": "54bd8fe0-2767-4043-8eb7-eeca07c4f5a7"
      },
      "source": [
        "losses = []\n",
        "accuracies = []\n",
        "epoches = 50\n",
        "start = time.time()\n",
        "loss_fn = nn.CrossEntropyLoss()\n",
        "optimizer = torch.optim.Adam(model.parameters(), lr = 0.001)\n",
        "for epoch in range(epoches):\n",
        "    epoch_loss = 0\n",
        "    epoch_accuracy = 0\n",
        "    for X, y in train_dataloader:\n",
        "        X = X.cuda()\n",
        "        y = y.cuda()\n",
        "        preds = model(X)\n",
        "        loss = loss_fn(preds, y)\n",
        "        \n",
        "        optimizer.zero_grad()\n",
        "        loss.backward()\n",
        "        optimizer.step()\n",
        "\n",
        "        accuracy = ((preds.argmax(dim=1) == y).float().mean())\n",
        "        epoch_accuracy += accuracy\n",
        "        epoch_loss += loss\n",
        "        print('.', end='', flush=True)\n",
        "        \n",
        "    epoch_accuracy = epoch_accuracy/len(train_dataloader)\n",
        "    accuracies.append(epoch_accuracy)\n",
        "    epoch_loss = epoch_loss / len(train_dataloader)\n",
        "    losses.append(epoch_loss)\n",
        "    print(\"Epoch: {}, train loss: {:.4f}, train accracy: {:.4f}, time: {}\".format(epoch, epoch_loss, epoch_accuracy, time.time() - start))\n"
      ],
      "execution_count": null,
      "outputs": [
        {
          "output_type": "stream",
          "text": [
            "........Epoch: 0, train loss: 0.7059, train accracy: 0.5200, time: 5.617825031280518\n",
            "........Epoch: 1, train loss: 0.6948, train accracy: 0.4787, time: 11.059982299804688\n",
            "........Epoch: 2, train loss: 0.6941, train accracy: 0.4800, time: 16.64521074295044\n",
            "........Epoch: 3, train loss: 0.6934, train accracy: 0.4813, time: 21.88024663925171\n",
            "........Epoch: 4, train loss: 0.6932, train accracy: 0.4950, time: 27.16929268836975\n",
            "........Epoch: 5, train loss: 0.6931, train accracy: 0.5125, time: 32.30161190032959\n",
            "........Epoch: 6, train loss: 0.6934, train accracy: 0.4950, time: 37.019506216049194\n",
            "........Epoch: 7, train loss: 0.6921, train accracy: 0.5412, time: 41.71485233306885\n",
            "........Epoch: 8, train loss: 0.6929, train accracy: 0.5087, time: 46.21132254600525\n",
            "........Epoch: 9, train loss: 0.6887, train accracy: 0.5187, time: 50.386106729507446\n",
            "........Epoch: 10, train loss: 0.6719, train accracy: 0.5650, time: 54.55625081062317\n",
            "........Epoch: 11, train loss: 0.6626, train accracy: 0.5800, time: 58.8262243270874\n",
            "........Epoch: 12, train loss: 0.6541, train accracy: 0.5987, time: 63.09254455566406\n",
            "........Epoch: 13, train loss: 0.6580, train accracy: 0.6112, time: 67.34781002998352\n",
            "........Epoch: 14, train loss: 0.6461, train accracy: 0.6200, time: 71.59010720252991\n",
            "........Epoch: 15, train loss: 0.6248, train accracy: 0.6587, time: 75.8426022529602\n",
            "........Epoch: 16, train loss: 0.6522, train accracy: 0.6300, time: 80.09326839447021\n",
            "........Epoch: 17, train loss: 0.6138, train accracy: 0.6413, time: 84.31183242797852\n",
            "........Epoch: 18, train loss: 0.6219, train accracy: 0.6513, time: 88.51062297821045\n",
            "........Epoch: 19, train loss: 0.6284, train accracy: 0.6262, time: 92.68225383758545\n",
            "........Epoch: 20, train loss: 0.6101, train accracy: 0.6750, time: 96.79947781562805\n",
            "........Epoch: 21, train loss: 0.5695, train accracy: 0.6638, time: 100.88749599456787\n",
            "........Epoch: 22, train loss: 0.5781, train accracy: 0.7163, time: 105.03272867202759\n",
            "........Epoch: 23, train loss: 0.5591, train accracy: 0.7062, time: 109.32331371307373\n",
            "........Epoch: 24, train loss: 0.5298, train accracy: 0.7138, time: 113.5816605091095\n",
            "........Epoch: 25, train loss: 0.5273, train accracy: 0.7325, time: 117.79380345344543\n",
            "........Epoch: 26, train loss: 0.4599, train accracy: 0.7638, time: 121.92827367782593\n",
            "........Epoch: 27, train loss: 0.4965, train accracy: 0.7512, time: 126.00065755844116\n",
            "........Epoch: 28, train loss: 0.4595, train accracy: 0.7812, time: 130.09470009803772\n",
            "........Epoch: 29, train loss: 0.4375, train accracy: 0.8225, time: 134.17924976348877\n",
            "........Epoch: 30, train loss: 0.4138, train accracy: 0.8062, time: 138.30264830589294\n",
            "........Epoch: 31, train loss: 0.3667, train accracy: 0.8462, time: 142.4126214981079\n",
            "........Epoch: 32, train loss: 0.2428, train accracy: 0.9000, time: 146.49649357795715\n",
            "........Epoch: 33, train loss: 0.2424, train accracy: 0.9087, time: 150.62144327163696\n",
            "........Epoch: 34, train loss: 0.2472, train accracy: 0.9100, time: 154.7092080116272\n",
            "........Epoch: 35, train loss: 0.2024, train accracy: 0.9300, time: 158.82072496414185\n",
            "........Epoch: 36, train loss: 0.1549, train accracy: 0.9412, time: 162.92889547348022\n",
            "........Epoch: 37, train loss: 0.1361, train accracy: 0.9450, time: 167.0527229309082\n",
            "........Epoch: 38, train loss: 0.1491, train accracy: 0.9413, time: 171.20198774337769\n",
            "........Epoch: 39, train loss: 0.1048, train accracy: 0.9663, time: 175.3469045162201\n",
            "........Epoch: 40, train loss: 0.1478, train accracy: 0.9412, time: 179.4435999393463\n",
            "........Epoch: 41, train loss: 0.0981, train accracy: 0.9650, time: 183.37111163139343\n",
            "........Epoch: 42, train loss: 0.0436, train accracy: 0.9800, time: 187.33810591697693\n",
            "........Epoch: 43, train loss: 0.0666, train accracy: 0.9750, time: 191.34386610984802\n",
            "........Epoch: 44, train loss: 0.0404, train accracy: 0.9837, time: 195.32478785514832\n",
            "........Epoch: 45, train loss: 0.0454, train accracy: 0.9850, time: 199.27293419837952\n",
            "........Epoch: 46, train loss: 0.0571, train accracy: 0.9775, time: 203.25058794021606\n",
            "........Epoch: 47, train loss: 0.0335, train accracy: 0.9850, time: 207.21801257133484\n",
            "........Epoch: 48, train loss: 0.0231, train accracy: 0.9913, time: 211.17855834960938\n",
            "........Epoch: 49, train loss: 0.0216, train accracy: 0.9862, time: 215.22118282318115\n"
          ],
          "name": "stdout"
        }
      ]
    },
    {
      "cell_type": "code",
      "metadata": {
        "colab": {
          "base_uri": "https://localhost:8080/"
        },
        "id": "a3eBzlglySdq",
        "outputId": "fed86634-46b5-4481-aeeb-fe5dcb709b9d"
      },
      "source": [
        ""
      ],
      "execution_count": null,
      "outputs": [
        {
          "output_type": "stream",
          "text": [
            "19\n"
          ],
          "name": "stdout"
        }
      ]
    },
    {
      "cell_type": "code",
      "metadata": {
        "id": "EOQJ70ZKwd-y"
      },
      "source": [
        ""
      ],
      "execution_count": null,
      "outputs": []
    },
    {
      "cell_type": "code",
      "metadata": {
        "id": "5mhHlP00sqep"
      },
      "source": [
        ""
      ],
      "execution_count": null,
      "outputs": []
    },
    {
      "cell_type": "code",
      "metadata": {
        "id": "T415BsJ8gpr-",
        "colab": {
          "base_uri": "https://localhost:8080/",
          "height": 1000
        },
        "outputId": "e9f352dd-176a-4480-dc0f-849c81d54898"
      },
      "source": [
        "def test():\n",
        "    # test phase\n",
        "    model.eval()\n",
        "\n",
        "    correct = 0\n",
        "    total_benign = 304\n",
        "    total_malignent = 75\n",
        "    num_mal_pred = 0\n",
        "    num_ben_pred = 0\n",
        "\n",
        "    # We don't need gradients for test, so wrap in \n",
        "    # no_grad to save memory\n",
        "    with torch.no_grad():\n",
        "        for batch, target in test_dataloader:\n",
        "            # Move the training batch to the GPU\n",
        "            batch, target = batch.to(device), target.to(device)\n",
        "\n",
        "            # forward propagation\n",
        "            output = model(batch)\n",
        "            print(output.shape)\n",
        "            # get prediction\n",
        "            output = torch.argmax(output, 1)\n",
        "            print(output)\n",
        "            #print(target)\n",
        "            # accumulate correct number\n",
        "            correct += (output == target).sum().item()\n",
        "            num_mal_pred += output.sum().item()\n",
        "            num_ben_pred += len(output) - num_mal_pred\n",
        "            print()\n",
        "\n",
        "    # Calculate test accuracy, specificity    \n",
        "    acc = 100 * float(correct) / len(test_folder)\n",
        "    print('Test accuracy: {}/{} ({:.2f}%)'.format( correct, len(test_folder), acc ) )\n",
        "    print(\"True Negative Rate: {}/{} = {:.2f}\".format(num_ben_pred, total_benign, num_ben_pred/total_benign))\n",
        "    print(\"True Positive Rate: {}/{} = {:.2f}\".format(num_mal_pred, total_malignent, num_mal_pred/total_malignent))\n",
        "    print(\"Type I Error: {}\".format( 1 - (num_mal_pred/total_malignent)))\n",
        "    print(\"Type II Error: {}\".format( 1 - (num_ben_pred/total_benign)))\n",
        "\n",
        "test()"
      ],
      "execution_count": null,
      "outputs": [
        {
          "output_type": "stream",
          "text": [
            "tensor([[ 1.5623e+00, -3.4102e+00],\n",
            "        [ 6.6091e+00, -8.9063e+00],\n",
            "        [ 7.2169e+00, -1.1639e+01],\n",
            "        [ 3.5622e+00, -5.1539e+00],\n",
            "        [-2.7218e+00,  3.1964e+00],\n",
            "        [ 3.2101e+00, -4.7573e+00],\n",
            "        [ 7.7965e+00, -1.1562e+01],\n",
            "        [ 8.9725e+00, -1.3915e+01],\n",
            "        [-7.1246e+00,  4.4714e+00],\n",
            "        [-2.1347e+00,  3.1024e-01],\n",
            "        [-2.1117e+00,  3.1766e+00],\n",
            "        [ 2.6010e+00, -3.4714e+00],\n",
            "        [ 6.1019e+00, -9.6371e+00],\n",
            "        [ 3.1161e+00, -5.1352e+00],\n",
            "        [ 5.0860e+00, -6.7929e+00],\n",
            "        [ 4.3887e+00, -7.3391e+00],\n",
            "        [ 2.9882e+00, -4.3363e+00],\n",
            "        [ 3.1552e+00, -4.9939e+00],\n",
            "        [ 5.9971e+00, -8.2743e+00],\n",
            "        [ 1.1288e+01, -1.6845e+01],\n",
            "        [ 3.8463e+00, -5.7349e+00],\n",
            "        [-1.8974e+01,  2.0979e+01],\n",
            "        [ 7.6013e+00, -1.1402e+01],\n",
            "        [ 2.0983e+00, -2.9277e+00],\n",
            "        [ 1.4882e+00, -2.6692e+00],\n",
            "        [-1.7776e+00,  4.0358e+00],\n",
            "        [ 6.3825e+00, -8.3556e+00],\n",
            "        [ 5.4594e+00, -9.4975e+00],\n",
            "        [ 4.8580e+00, -7.8933e+00],\n",
            "        [ 1.9698e-02, -2.9545e-01],\n",
            "        [ 4.6312e+00, -6.9540e+00],\n",
            "        [ 4.2032e+00, -5.3073e+00],\n",
            "        [ 1.9755e+00, -5.2088e+00],\n",
            "        [ 4.4949e+00, -7.2193e+00],\n",
            "        [-1.3540e+00,  8.5296e-01],\n",
            "        [-7.4741e-02, -3.5661e-01],\n",
            "        [ 9.8500e+00, -1.3165e+01],\n",
            "        [ 2.1388e+00, -3.4475e+00],\n",
            "        [-1.7110e-01,  2.8337e-02],\n",
            "        [-4.2127e-01,  3.7418e-01],\n",
            "        [ 3.9128e+00, -5.3837e+00],\n",
            "        [ 6.1516e+00, -1.2481e+01],\n",
            "        [-8.6671e-01, -9.2389e-01],\n",
            "        [ 3.9896e+00, -5.1882e+00],\n",
            "        [ 5.0159e+00, -8.0832e+00],\n",
            "        [ 3.4681e+00, -4.8715e+00],\n",
            "        [ 6.1917e+00, -8.5640e+00],\n",
            "        [-7.5989e-01,  1.4352e+00],\n",
            "        [ 4.2839e+00, -7.1684e+00],\n",
            "        [ 3.2525e+00, -4.7285e+00],\n",
            "        [ 1.1616e+01, -1.7144e+01],\n",
            "        [ 6.3228e+00, -9.5472e+00],\n",
            "        [-1.2654e+01,  1.6197e+01],\n",
            "        [-1.9951e+00,  2.0715e-01],\n",
            "        [-1.1412e+00,  8.6119e-01],\n",
            "        [-8.4420e-01, -5.7682e-02],\n",
            "        [-1.2857e+01,  1.2701e+01],\n",
            "        [ 2.3301e+00, -4.6390e+00],\n",
            "        [ 1.2882e+00, -5.0628e+00],\n",
            "        [-1.5656e+00,  1.3991e+00],\n",
            "        [ 4.0741e+00, -9.2193e+00],\n",
            "        [ 8.2438e+00, -1.1939e+01],\n",
            "        [ 3.8589e+00, -5.8101e+00],\n",
            "        [ 6.5210e+00, -9.9646e+00],\n",
            "        [ 6.6873e+00, -1.0057e+01],\n",
            "        [ 6.2033e+00, -1.0687e+01],\n",
            "        [ 7.2756e+00, -1.0652e+01],\n",
            "        [ 5.2581e+00, -7.2374e+00],\n",
            "        [ 9.5821e+00, -1.3768e+01],\n",
            "        [-7.1874e+00,  9.4484e+00],\n",
            "        [ 2.6165e+00, -4.0579e+00],\n",
            "        [ 7.7107e+00, -1.0347e+01],\n",
            "        [ 1.5125e+00, -2.2377e+00],\n",
            "        [ 9.6321e+00, -1.5126e+01],\n",
            "        [ 7.7521e+00, -1.1370e+01],\n",
            "        [ 7.2255e+00, -1.0967e+01],\n",
            "        [ 5.8402e+00, -1.0341e+01],\n",
            "        [ 2.3328e+00, -3.1514e+00],\n",
            "        [ 7.8753e+00, -1.0500e+01],\n",
            "        [ 4.3197e+00, -6.2227e+00],\n",
            "        [ 9.0912e+00, -1.3263e+01],\n",
            "        [ 2.0601e+00, -3.4184e+00],\n",
            "        [ 6.1136e+00, -9.2166e+00],\n",
            "        [ 6.2295e+00, -1.1365e+01],\n",
            "        [ 9.8341e+00, -1.4457e+01],\n",
            "        [ 1.5285e+01, -2.4161e+01],\n",
            "        [ 5.0009e+00, -7.2255e+00],\n",
            "        [ 2.0900e+00, -3.6321e+00],\n",
            "        [ 4.4887e+00, -7.7647e+00],\n",
            "        [ 1.5611e+00, -2.3224e+00],\n",
            "        [ 6.6842e+00, -9.2832e+00],\n",
            "        [ 1.0645e+01, -1.6548e+01],\n",
            "        [ 7.7149e+00, -1.1225e+01],\n",
            "        [ 3.3033e+00, -9.4542e+00],\n",
            "        [-6.1201e-01,  1.3968e-01],\n",
            "        [ 1.0793e+01, -1.7514e+01],\n",
            "        [ 3.5241e+00, -5.2468e+00],\n",
            "        [ 3.2487e+00, -8.0912e+00],\n",
            "        [ 7.0240e+00, -9.9609e+00],\n",
            "        [ 3.3627e+00, -4.5838e+00]], device='cuda:0')\n",
            "tensor([0, 0, 0, 0, 1, 0, 0, 0, 1, 1, 1, 0, 0, 0, 0, 0, 0, 0, 0, 0, 0, 1, 0, 0,\n",
            "        0, 1, 0, 0, 0, 0, 0, 0, 0, 0, 1, 0, 0, 0, 1, 1, 0, 0, 0, 0, 0, 0, 0, 1,\n",
            "        0, 0, 0, 0, 1, 1, 1, 1, 1, 0, 0, 1, 0, 0, 0, 0, 0, 0, 0, 0, 0, 1, 0, 0,\n",
            "        0, 0, 0, 0, 0, 0, 0, 0, 0, 0, 0, 0, 0, 0, 0, 0, 0, 0, 0, 0, 0, 0, 1, 0,\n",
            "        0, 0, 0, 0], device='cuda:0')\n",
            "\n",
            "tensor([[  1.3943,  -4.7765],\n",
            "        [ -0.1788,  -1.5612],\n",
            "        [  3.6575,  -4.5529],\n",
            "        [  5.7671, -10.2583],\n",
            "        [ -0.3309,   0.1617],\n",
            "        [  8.1529, -11.5426],\n",
            "        [ 12.3369, -19.4597],\n",
            "        [ -0.2884,   0.1905],\n",
            "        [  3.7626,  -6.1309],\n",
            "        [  4.4890,  -5.4840],\n",
            "        [ 18.2102, -29.6493],\n",
            "        [  5.5097,  -8.1418],\n",
            "        [  3.8384,  -8.0466],\n",
            "        [  6.6808,  -9.7689],\n",
            "        [  4.1123,  -6.9185],\n",
            "        [ -5.8310,   5.4332],\n",
            "        [ 12.0249, -17.6797],\n",
            "        [  4.7101,  -6.5071],\n",
            "        [  4.1017,  -5.8527],\n",
            "        [  4.3239,  -5.7781],\n",
            "        [  1.8731,  -3.0567],\n",
            "        [  3.4015,  -4.5864],\n",
            "        [  6.2769,  -8.7233],\n",
            "        [  1.1739,  -4.4457],\n",
            "        [  7.1602, -11.6765],\n",
            "        [ -0.1720,   0.0344],\n",
            "        [  4.1038,  -6.0944],\n",
            "        [  0.2251,  -1.0817],\n",
            "        [ -0.3328,   1.0509],\n",
            "        [ 12.3232, -17.8424],\n",
            "        [ 13.9325, -20.4181],\n",
            "        [  2.0135,  -2.7382],\n",
            "        [  2.1445,  -3.0667],\n",
            "        [ 10.6552, -16.6064],\n",
            "        [  1.6007,  -2.3423],\n",
            "        [  9.1901, -15.2576],\n",
            "        [ 14.1628, -22.1527],\n",
            "        [  0.8548,  -1.4801],\n",
            "        [  2.4917,  -3.1811],\n",
            "        [  1.6932,  -2.4344],\n",
            "        [  9.7992, -15.5728],\n",
            "        [  3.0562,  -3.9863],\n",
            "        [ -0.3415,   0.3240],\n",
            "        [  4.6946,  -6.5949],\n",
            "        [  3.9696,  -9.0562],\n",
            "        [  1.5219,  -5.1642],\n",
            "        [ -0.2687,  -0.0477],\n",
            "        [  8.0940, -12.7193],\n",
            "        [  3.2330,  -4.4123],\n",
            "        [  5.8306,  -8.4340],\n",
            "        [  9.4677, -14.1593],\n",
            "        [  8.2438, -13.0514],\n",
            "        [  7.6762, -11.0404],\n",
            "        [ -0.1948,   0.0665],\n",
            "        [ -0.0982,  -0.3494],\n",
            "        [  3.8279,  -6.0479],\n",
            "        [ 11.7142, -16.2993],\n",
            "        [  2.1910,  -4.3658],\n",
            "        [ 12.8906, -20.1473],\n",
            "        [  6.9998,  -9.6270],\n",
            "        [ 10.2895, -15.5577],\n",
            "        [  5.8449,  -8.3465],\n",
            "        [  0.3180,  -1.3995],\n",
            "        [  9.0278, -15.4993],\n",
            "        [ -0.5265,  -0.0740],\n",
            "        [ -1.2976,  -0.1233],\n",
            "        [  4.2547,  -5.8700],\n",
            "        [  7.6068, -10.3785],\n",
            "        [ 12.9877, -17.7927],\n",
            "        [  1.5341,  -3.3970],\n",
            "        [  2.9386,  -4.2042],\n",
            "        [  7.6085, -10.4543],\n",
            "        [  4.3314,  -6.5566],\n",
            "        [  2.4792,  -3.4253],\n",
            "        [  0.2823,  -5.1581],\n",
            "        [  2.9304,  -4.3790],\n",
            "        [  5.7656,  -9.2153],\n",
            "        [  7.9231, -12.0191],\n",
            "        [  3.6711,  -6.0861],\n",
            "        [  5.2902,  -7.7821],\n",
            "        [  0.0482,  -1.2720],\n",
            "        [ 10.1279, -13.6058],\n",
            "        [  0.3378,  -1.5327],\n",
            "        [  1.3618,  -2.3378],\n",
            "        [  1.8451,  -2.6912],\n",
            "        [  9.9494, -16.8112],\n",
            "        [ -0.0327,  -2.4355],\n",
            "        [  5.8066,  -7.4729],\n",
            "        [  6.8238,  -9.5498],\n",
            "        [ -4.5725,   6.2511],\n",
            "        [ -1.2955,   2.5005],\n",
            "        [  0.8627,  -1.6560],\n",
            "        [  2.4963,  -4.3723],\n",
            "        [  4.0792,  -6.5188],\n",
            "        [  2.7112,  -3.5596],\n",
            "        [ -0.1173,  -1.0559],\n",
            "        [ 12.5384, -18.8090],\n",
            "        [  2.5322,  -4.0591],\n",
            "        [  2.1704,  -3.1012],\n",
            "        [  5.0111,  -7.9262]], device='cuda:0')\n",
            "tensor([0, 0, 0, 0, 1, 0, 0, 1, 0, 0, 0, 0, 0, 0, 0, 1, 0, 0, 0, 0, 0, 0, 0, 0,\n",
            "        0, 1, 0, 0, 1, 0, 0, 0, 0, 0, 0, 0, 0, 0, 0, 0, 0, 0, 1, 0, 0, 0, 1, 0,\n",
            "        0, 0, 0, 0, 0, 1, 0, 0, 0, 0, 0, 0, 0, 0, 0, 0, 1, 1, 0, 0, 0, 0, 0, 0,\n",
            "        0, 0, 0, 0, 0, 0, 0, 0, 0, 0, 0, 0, 0, 0, 0, 0, 0, 1, 1, 0, 0, 0, 0, 0,\n",
            "        0, 0, 0, 0], device='cuda:0')\n",
            "\n",
            "tensor([[  4.8956,  -6.7614],\n",
            "        [ 16.7048, -25.6909],\n",
            "        [ 12.6585, -18.9981],\n",
            "        [ -6.5020,   7.6885],\n",
            "        [ -0.3585,   0.3030],\n",
            "        [  6.3771,  -8.6647],\n",
            "        [  2.3011,  -6.4165],\n",
            "        [ -7.4203,  10.1485],\n",
            "        [  4.4052,  -6.2533],\n",
            "        [  3.7069,  -4.6876],\n",
            "        [ 11.1766, -15.3887],\n",
            "        [  5.8934,  -8.8254],\n",
            "        [  6.4388,  -8.9927],\n",
            "        [  2.1622,  -2.9486],\n",
            "        [  6.4032,  -9.9506],\n",
            "        [  1.8369,  -2.9764],\n",
            "        [ -9.3890,   7.5793],\n",
            "        [ 14.2875, -19.3301],\n",
            "        [  1.3601,  -2.3451],\n",
            "        [ -8.6611,   9.9399],\n",
            "        [  1.8563,  -2.7095],\n",
            "        [  3.6882,  -5.2627],\n",
            "        [  1.4285,  -2.6055],\n",
            "        [  2.9333,  -4.6786],\n",
            "        [ 10.7555, -16.8122],\n",
            "        [  5.7473,  -9.0527],\n",
            "        [  4.2585,  -5.6012],\n",
            "        [  1.2856,  -2.6037],\n",
            "        [  6.4562,  -9.0243],\n",
            "        [  0.4964,  -1.4453],\n",
            "        [  3.3298,  -6.5759],\n",
            "        [  2.3830,  -5.3106],\n",
            "        [  4.1133,  -6.3036],\n",
            "        [  7.8220, -10.7354],\n",
            "        [ -0.1782,   0.0430],\n",
            "        [  8.2222, -16.0338],\n",
            "        [  5.6262,  -8.4359],\n",
            "        [  7.8013, -11.0701],\n",
            "        [  6.9156, -10.0607],\n",
            "        [  3.8801,  -4.7974],\n",
            "        [  2.1012,  -3.2182],\n",
            "        [  9.4235, -15.3438],\n",
            "        [  4.9609,  -9.9765],\n",
            "        [  9.7138, -15.5738],\n",
            "        [  3.1621,  -6.0091],\n",
            "        [ -3.9739,   3.5549],\n",
            "        [ 13.1327, -18.9696],\n",
            "        [  5.6536,  -7.9841],\n",
            "        [  4.2255,  -9.0938],\n",
            "        [ -2.0366,   1.1957],\n",
            "        [  8.2119, -12.1344],\n",
            "        [  3.1638,  -5.0761],\n",
            "        [  3.7670,  -5.7763],\n",
            "        [  2.7095,  -3.9720],\n",
            "        [ 12.8346, -19.3774],\n",
            "        [  3.7677,  -4.9623],\n",
            "        [  6.4930,  -8.8814],\n",
            "        [ -0.6229,  -0.3804],\n",
            "        [ -2.1940,   1.7190],\n",
            "        [  5.5024,  -8.6740],\n",
            "        [  4.7897,  -6.5482],\n",
            "        [  6.9528, -12.1290],\n",
            "        [ -0.1782,   0.0423],\n",
            "        [  3.8319,  -4.8085],\n",
            "        [  5.6934,  -8.1178],\n",
            "        [  7.3515, -11.7907],\n",
            "        [  5.3251,  -8.5739],\n",
            "        [  6.0876, -10.4838],\n",
            "        [  1.3656,  -3.7446],\n",
            "        [  4.3917,  -5.9142],\n",
            "        [  5.9699,  -8.5188],\n",
            "        [  3.3147,  -5.2722],\n",
            "        [ -2.0712,   2.3676],\n",
            "        [  2.0718,  -3.0289],\n",
            "        [ 10.9888, -17.7468],\n",
            "        [  3.6287,  -5.7586],\n",
            "        [  3.5223,  -5.3878],\n",
            "        [  7.3583, -10.5714],\n",
            "        [  8.4251, -11.8586],\n",
            "        [  3.9982,  -5.7007],\n",
            "        [ 10.9979, -16.3099],\n",
            "        [ -5.6159,   3.3381],\n",
            "        [  0.9052,  -3.2626],\n",
            "        [  7.5946, -11.4994],\n",
            "        [  3.9029,  -5.4259],\n",
            "        [ 10.6139, -17.0998],\n",
            "        [  8.2267, -13.2830],\n",
            "        [  6.7007, -10.4973],\n",
            "        [ -4.7518,   6.4581],\n",
            "        [  4.5529,  -6.2287],\n",
            "        [  4.1887,  -7.2199],\n",
            "        [ 14.2268, -22.2592],\n",
            "        [ 10.6047, -14.8854],\n",
            "        [  5.5184,  -7.9507],\n",
            "        [  5.5315,  -7.5205],\n",
            "        [ -1.0022,  -2.7759],\n",
            "        [  7.8424, -12.6164],\n",
            "        [ -4.0550,   4.4859],\n",
            "        [ -8.2179,   6.6042],\n",
            "        [  5.3465,  -8.5358]], device='cuda:0')\n",
            "tensor([0, 0, 0, 1, 1, 0, 0, 1, 0, 0, 0, 0, 0, 0, 0, 0, 1, 0, 0, 1, 0, 0, 0, 0,\n",
            "        0, 0, 0, 0, 0, 0, 0, 0, 0, 0, 1, 0, 0, 0, 0, 0, 0, 0, 0, 0, 0, 1, 0, 0,\n",
            "        0, 1, 0, 0, 0, 0, 0, 0, 0, 1, 1, 0, 0, 0, 1, 0, 0, 0, 0, 0, 0, 0, 0, 0,\n",
            "        1, 0, 0, 0, 0, 0, 0, 0, 0, 1, 0, 0, 0, 0, 0, 0, 1, 0, 0, 0, 0, 0, 0, 0,\n",
            "        0, 1, 1, 0], device='cuda:0')\n",
            "\n",
            "tensor([[ 1.4358e+01, -2.1311e+01],\n",
            "        [ 4.6780e+00, -6.3480e+00],\n",
            "        [ 5.1664e+00, -8.7037e+00],\n",
            "        [ 1.4604e+00, -2.1654e+00],\n",
            "        [-6.1919e+00,  6.7416e+00],\n",
            "        [-3.4842e+00, -1.0095e+00],\n",
            "        [ 3.4727e+00, -5.2585e+00],\n",
            "        [ 3.5297e+00, -5.4235e+00],\n",
            "        [ 2.0838e+00, -3.4311e+00],\n",
            "        [ 7.5527e+00, -1.1191e+01],\n",
            "        [ 1.2284e+01, -1.8476e+01],\n",
            "        [ 1.8408e+00, -6.9348e+00],\n",
            "        [ 1.0713e+01, -1.8102e+01],\n",
            "        [ 5.4964e+00, -9.1219e+00],\n",
            "        [ 1.0882e+01, -1.5996e+01],\n",
            "        [ 5.4998e+00, -5.5168e+00],\n",
            "        [ 1.8178e+00, -2.9212e+00],\n",
            "        [ 4.5031e+00, -6.6681e+00],\n",
            "        [ 2.4226e+00, -3.9278e+00],\n",
            "        [ 7.1899e+00, -9.5309e+00],\n",
            "        [ 5.7339e+00, -8.8660e+00],\n",
            "        [ 9.2051e-01, -3.6829e+00],\n",
            "        [-8.1534e-02, -2.1754e-01],\n",
            "        [ 7.8154e+00, -1.1645e+01],\n",
            "        [ 8.4557e+00, -1.2571e+01],\n",
            "        [ 7.9591e-01, -1.1791e+00],\n",
            "        [ 9.4211e+00, -1.4018e+01],\n",
            "        [ 1.0582e+01, -1.5537e+01],\n",
            "        [ 3.9690e+00, -5.7382e+00],\n",
            "        [-6.6763e+00,  5.8103e+00],\n",
            "        [ 8.2136e+00, -1.1907e+01],\n",
            "        [ 1.1967e+00, -2.6634e+00],\n",
            "        [-4.3951e+00,  4.6500e+00],\n",
            "        [ 7.1431e+00, -9.9660e+00],\n",
            "        [ 9.2023e+00, -1.4357e+01],\n",
            "        [ 4.9078e+00, -7.5165e+00],\n",
            "        [ 9.4895e-01, -1.6705e+00],\n",
            "        [ 3.2800e+00, -4.9630e+00],\n",
            "        [ 6.4446e+00, -1.0387e+01],\n",
            "        [ 5.8854e+00, -8.0150e+00],\n",
            "        [-8.8038e+00,  1.0217e+01],\n",
            "        [ 4.9247e+00, -7.9430e+00],\n",
            "        [-2.3317e+00,  3.7755e+00],\n",
            "        [-2.1696e+00,  1.6179e+00],\n",
            "        [-1.8071e-01,  4.6529e-02],\n",
            "        [ 1.0455e+01, -1.5948e+01],\n",
            "        [ 8.0374e+00, -1.3242e+01],\n",
            "        [-3.2036e+00,  4.4893e+00],\n",
            "        [-1.2488e+01,  1.6908e+01],\n",
            "        [-2.0631e+00,  2.0499e+00],\n",
            "        [-2.0540e+00,  2.1810e+00],\n",
            "        [ 4.4685e-01, -1.1513e+00],\n",
            "        [-3.1697e+00,  4.7552e+00],\n",
            "        [ 3.1323e+00, -5.0329e+00],\n",
            "        [ 1.3572e+00, -2.4981e+00],\n",
            "        [ 3.9445e+00, -5.8618e+00],\n",
            "        [-8.8692e+00,  1.2151e+01],\n",
            "        [ 1.4443e+00, -2.1005e+00],\n",
            "        [ 4.6076e+00, -6.9935e+00],\n",
            "        [ 8.3862e+00, -1.2870e+01],\n",
            "        [ 1.0286e+01, -1.5242e+01],\n",
            "        [ 9.0361e+00, -1.6077e+01],\n",
            "        [ 5.8217e-01, -1.0631e+00],\n",
            "        [ 3.8926e+00, -6.4951e+00],\n",
            "        [ 5.6053e+00, -8.9377e+00],\n",
            "        [ 7.6544e+00, -1.1249e+01],\n",
            "        [ 2.8663e+00, -4.2357e+00],\n",
            "        [ 1.0144e+01, -1.6521e+01],\n",
            "        [ 6.3595e+00, -8.4392e+00],\n",
            "        [ 8.2960e+00, -1.2407e+01],\n",
            "        [ 2.6197e+00, -3.7343e+00],\n",
            "        [ 7.5454e+00, -1.2505e+01],\n",
            "        [-1.5374e-01,  8.2644e-03],\n",
            "        [ 7.1304e+00, -1.1885e+01],\n",
            "        [ 2.4294e+00, -4.9707e+00],\n",
            "        [ 5.0060e+00, -7.4265e+00],\n",
            "        [ 3.2828e+00, -5.0819e+00],\n",
            "        [ 4.4569e+00, -7.6614e+00],\n",
            "        [ 3.3101e+00, -5.8526e+00]], device='cuda:0')\n",
            "tensor([0, 0, 0, 0, 1, 1, 0, 0, 0, 0, 0, 0, 0, 0, 0, 0, 0, 0, 0, 0, 0, 0, 0, 0,\n",
            "        0, 0, 0, 0, 0, 1, 0, 0, 1, 0, 0, 0, 0, 0, 0, 0, 1, 0, 1, 1, 1, 0, 0, 1,\n",
            "        1, 1, 1, 0, 1, 0, 0, 0, 1, 0, 0, 0, 0, 0, 0, 0, 0, 0, 0, 0, 0, 0, 0, 0,\n",
            "        1, 0, 0, 0, 0, 0, 0], device='cuda:0')\n",
            "\n"
          ],
          "name": "stdout"
        },
        {
          "output_type": "error",
          "ename": "NameError",
          "evalue": "ignored",
          "traceback": [
            "\u001b[0;31m---------------------------------------------------------------------------\u001b[0m",
            "\u001b[0;31mNameError\u001b[0m                                 Traceback (most recent call last)",
            "\u001b[0;32m<ipython-input-34-ed6a00e2f6b9>\u001b[0m in \u001b[0;36m<module>\u001b[0;34m()\u001b[0m\n\u001b[1;32m     38\u001b[0m     \u001b[0mprint\u001b[0m\u001b[0;34m(\u001b[0m\u001b[0;34m\"Type II Error: {}\"\u001b[0m\u001b[0;34m.\u001b[0m\u001b[0mformat\u001b[0m\u001b[0;34m(\u001b[0m \u001b[0;36m1\u001b[0m \u001b[0;34m-\u001b[0m \u001b[0;34m(\u001b[0m\u001b[0mnum_ben_pred\u001b[0m\u001b[0;34m/\u001b[0m\u001b[0mtotal_benign\u001b[0m\u001b[0;34m)\u001b[0m\u001b[0;34m)\u001b[0m\u001b[0;34m)\u001b[0m\u001b[0;34m\u001b[0m\u001b[0;34m\u001b[0m\u001b[0m\n\u001b[1;32m     39\u001b[0m \u001b[0;34m\u001b[0m\u001b[0m\n\u001b[0;32m---> 40\u001b[0;31m \u001b[0mtest\u001b[0m\u001b[0;34m(\u001b[0m\u001b[0;34m)\u001b[0m\u001b[0;34m\u001b[0m\u001b[0;34m\u001b[0m\u001b[0m\n\u001b[0m",
            "\u001b[0;32m<ipython-input-34-ed6a00e2f6b9>\u001b[0m in \u001b[0;36mtest\u001b[0;34m()\u001b[0m\n\u001b[1;32m     31\u001b[0m     \u001b[0;31m# Calculate test accuracy, specificity\u001b[0m\u001b[0;34m\u001b[0m\u001b[0;34m\u001b[0m\u001b[0;34m\u001b[0m\u001b[0m\n\u001b[1;32m     32\u001b[0m     \u001b[0macc\u001b[0m \u001b[0;34m=\u001b[0m \u001b[0;36m100\u001b[0m \u001b[0;34m*\u001b[0m \u001b[0mfloat\u001b[0m\u001b[0;34m(\u001b[0m\u001b[0mcorrect\u001b[0m\u001b[0;34m)\u001b[0m \u001b[0;34m/\u001b[0m \u001b[0mlen\u001b[0m\u001b[0;34m(\u001b[0m\u001b[0mtest_folder\u001b[0m\u001b[0;34m)\u001b[0m\u001b[0;34m\u001b[0m\u001b[0;34m\u001b[0m\u001b[0m\n\u001b[0;32m---> 33\u001b[0;31m     \u001b[0mTNR\u001b[0m\u001b[0;34m\u001b[0m\u001b[0;34m\u001b[0m\u001b[0m\n\u001b[0m\u001b[1;32m     34\u001b[0m     \u001b[0mprint\u001b[0m\u001b[0;34m(\u001b[0m\u001b[0;34m'Test accuracy: {}/{} ({:.2f}%)'\u001b[0m\u001b[0;34m.\u001b[0m\u001b[0mformat\u001b[0m\u001b[0;34m(\u001b[0m \u001b[0mcorrect\u001b[0m\u001b[0;34m,\u001b[0m \u001b[0mlen\u001b[0m\u001b[0;34m(\u001b[0m\u001b[0mtest_folder\u001b[0m\u001b[0;34m)\u001b[0m\u001b[0;34m,\u001b[0m \u001b[0macc\u001b[0m \u001b[0;34m)\u001b[0m \u001b[0;34m)\u001b[0m\u001b[0;34m\u001b[0m\u001b[0;34m\u001b[0m\u001b[0m\n\u001b[1;32m     35\u001b[0m     \u001b[0mprint\u001b[0m\u001b[0;34m(\u001b[0m\u001b[0;34m\"True Negative Rate: {}/{} = {:.2f}\"\u001b[0m\u001b[0;34m.\u001b[0m\u001b[0mformat\u001b[0m\u001b[0;34m(\u001b[0m\u001b[0mnum_ben_pred\u001b[0m\u001b[0;34m,\u001b[0m \u001b[0mtotal_benign\u001b[0m\u001b[0;34m,\u001b[0m \u001b[0mnum_ben_pred\u001b[0m\u001b[0;34m/\u001b[0m\u001b[0mtotal_benign\u001b[0m\u001b[0;34m)\u001b[0m\u001b[0;34m)\u001b[0m\u001b[0;34m\u001b[0m\u001b[0;34m\u001b[0m\u001b[0m\n",
            "\u001b[0;31mNameError\u001b[0m: name 'TNR' is not defined"
          ]
        }
      ]
    },
    {
      "cell_type": "code",
      "metadata": {
        "colab": {
          "base_uri": "https://localhost:8080/"
        },
        "id": "edO0ScOZf3H8",
        "outputId": "79563016-2c16-4e0d-bfb6-36f44b91ff4c"
      },
      "source": [
        "a = torch.empty(3,5)\n",
        "a"
      ],
      "execution_count": null,
      "outputs": [
        {
          "output_type": "execute_result",
          "data": {
            "text/plain": [
              "tensor([[-6.4574e+03,  0.0000e+00,  1.5975e-43,  1.3873e-43,  1.4574e-43],\n",
              "        [ 6.4460e-44,  1.4153e-43,  1.5274e-43,  1.5695e-43,  1.6255e-43],\n",
              "        [ 1.6956e-43,  1.5975e-43,  1.7034e+19,  3.3346e+27,  1.1093e+27]])"
            ]
          },
          "metadata": {
            "tags": []
          },
          "execution_count": 67
        }
      ]
    }
  ]
}